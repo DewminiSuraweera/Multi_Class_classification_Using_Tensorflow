{
  "cells": [
    {
      "cell_type": "markdown",
      "metadata": {},
      "source": [
        "## Import Libraries"
      ]
    },
    {
      "cell_type": "code",
      "execution_count": 2,
      "metadata": {
        "id": "jydtNj3HtZWU"
      },
      "outputs": [],
      "source": [
        "import tensorflow as tf\n",
        "import numpy as np\n",
        "import pandas as pd\n",
        "from sklearn.model_selection import train_test_split\n",
        "from sklearn.preprocessing import StandardScaler\n",
        "from sklearn.datasets import load_wine\n",
        "import matplotlib.pyplot as plt"
      ]
    },
    {
      "cell_type": "markdown",
      "metadata": {},
      "source": [
        "## Load the dataset\n"
      ]
    },
    {
      "cell_type": "code",
      "execution_count": 4,
      "metadata": {
        "colab": {
          "base_uri": "https://localhost:8080/"
        },
        "id": "G9Yu2ZFVtx7r",
        "outputId": "195b5c8b-3873-448a-99b6-b9a0b5381c7c"
      },
      "outputs": [
        {
          "data": {
            "text/plain": [
              "sklearn.utils._bunch.Bunch"
            ]
          },
          "execution_count": 4,
          "metadata": {},
          "output_type": "execute_result"
        }
      ],
      "source": [
        "Data = load_wine()\n",
        "type(Data)"
      ]
    },
    {
      "cell_type": "code",
      "execution_count": 5,
      "metadata": {
        "colab": {
          "base_uri": "https://localhost:8080/"
        },
        "id": "jM6vqq7nuIsW",
        "outputId": "37687a71-f53c-4c3d-d68c-34252c0e5cde"
      },
      "outputs": [
        {
          "data": {
            "text/plain": [
              "dict_keys(['data', 'target', 'frame', 'target_names', 'DESCR', 'feature_names'])"
            ]
          },
          "execution_count": 5,
          "metadata": {},
          "output_type": "execute_result"
        }
      ],
      "source": [
        "#Bunch object and attributes that can be accessed\n",
        "Data.keys()"
      ]
    },
    {
      "cell_type": "code",
      "execution_count": 6,
      "metadata": {
        "colab": {
          "base_uri": "https://localhost:8080/"
        },
        "id": "O2I70e9KuKo6",
        "outputId": "951fa17b-d300-40bc-bdd6-f79f2a4ca8a6"
      },
      "outputs": [
        {
          "name": "stdout",
          "output_type": "stream",
          "text": [
            "(178, 13)\n",
            "(178,)\n"
          ]
        }
      ],
      "source": [
        "#number of samples available\n",
        "print(Data.data.shape)\n",
        "print(Data.target.shape)"
      ]
    },
    {
      "cell_type": "code",
      "execution_count": 7,
      "metadata": {
        "colab": {
          "base_uri": "https://localhost:8080/"
        },
        "id": "vRdpSmDLvzI7",
        "outputId": "08c99f4d-0976-4773-83f4-d9d07ec08d3a"
      },
      "outputs": [],
      "source": [
        "x = Data.data\n",
        "y = Data.target"
      ]
    },
    {
      "cell_type": "code",
      "execution_count": 8,
      "metadata": {
        "colab": {
          "base_uri": "https://localhost:8080/"
        },
        "id": "RDYVaEsDumek",
        "outputId": "5f24dc2b-eff0-4520-ac24-20e8cf0e48a5"
      },
      "outputs": [
        {
          "data": {
            "text/plain": [
              "array(['class_0', 'class_1', 'class_2'], dtype='<U7')"
            ]
          },
          "execution_count": 8,
          "metadata": {},
          "output_type": "execute_result"
        }
      ],
      "source": [
        "#number of classifies\n",
        "Data.target_names "
      ]
    },
    {
      "cell_type": "code",
      "execution_count": 9,
      "metadata": {
        "colab": {
          "base_uri": "https://localhost:8080/"
        },
        "id": "4kkwG_lruqFr",
        "outputId": "24733abf-6655-4b63-f174-b549467b4e0d"
      },
      "outputs": [
        {
          "data": {
            "text/plain": [
              "['alcohol',\n",
              " 'malic_acid',\n",
              " 'ash',\n",
              " 'alcalinity_of_ash',\n",
              " 'magnesium',\n",
              " 'total_phenols',\n",
              " 'flavanoids',\n",
              " 'nonflavanoid_phenols',\n",
              " 'proanthocyanins',\n",
              " 'color_intensity',\n",
              " 'hue',\n",
              " 'od280/od315_of_diluted_wines',\n",
              " 'proline']"
            ]
          },
          "execution_count": 9,
          "metadata": {},
          "output_type": "execute_result"
        }
      ],
      "source": [
        "#names of the features\n",
        "Data.feature_names"
      ]
    },
    {
      "cell_type": "code",
      "execution_count": 11,
      "metadata": {
        "colab": {
          "base_uri": "https://localhost:8080/"
        },
        "id": "VSwQ3-DeuvVT",
        "outputId": "6e3c436e-3790-4d88-a848-956fd9339d13"
      },
      "outputs": [
        {
          "name": "stdout",
          "output_type": "stream",
          "text": [
            "(124, 13) (124,) (54, 13) (54,)\n"
          ]
        }
      ],
      "source": [
        "#devide the dataset into train and test sets\n",
        "x_train, x_test, y_train, y_test = train_test_split(x,y,test_size=0.3)\n",
        "print(x_train.shape,y_train.shape,x_test.shape,y_test.shape)\n"
      ]
    },
    {
      "cell_type": "markdown",
      "metadata": {},
      "source": [
        "### Normalize the data"
      ]
    },
    {
      "cell_type": "code",
      "execution_count": 12,
      "metadata": {
        "colab": {
          "base_uri": "https://localhost:8080/"
        },
        "id": "EpXEK5s4xqL0",
        "outputId": "766cafed-ae95-44c3-ec5d-21603b225918"
      },
      "outputs": [
        {
          "name": "stdout",
          "output_type": "stream",
          "text": [
            "(124, 13) (124,) (54, 13) (54,)\n"
          ]
        }
      ],
      "source": [
        "scaler = StandardScaler()\n",
        "x_train = scaler.fit_transform(x_train)\n",
        "x_test = scaler.transform(x_test)\n",
        "print(x_train.shape,y_train.shape,x_test.shape,y_test.shape)\n"
      ]
    },
    {
      "cell_type": "markdown",
      "metadata": {},
      "source": [
        "## Model"
      ]
    },
    {
      "cell_type": "code",
      "execution_count": 14,
      "metadata": {
        "id": "ceWhh7odyHZg"
      },
      "outputs": [],
      "source": [
        "model = tf.keras.models.Sequential([\n",
        "    tf.keras.layers.Input(shape=(x_train.shape[1],)),\n",
        "    tf.keras.layers.Dense(12,activation=\"relu\"),\n",
        "    tf.keras.layers.Dense(3,activation=\"softmax\")\n",
        "]\n",
        ")"
      ]
    },
    {
      "cell_type": "markdown",
      "metadata": {},
      "source": [
        "### Compile the model"
      ]
    },
    {
      "cell_type": "code",
      "execution_count": 16,
      "metadata": {
        "id": "ZxY2iTse0nQu"
      },
      "outputs": [],
      "source": [
        "model.compile(optimizer='adam',\n",
        "              loss='sparse_categorical_crossentropy',\n",
        "              metrics='accuracy')\n"
      ]
    },
    {
      "cell_type": "markdown",
      "metadata": {},
      "source": [
        "### Training phase"
      ]
    },
    {
      "cell_type": "code",
      "execution_count": 20,
      "metadata": {
        "colab": {
          "base_uri": "https://localhost:8080/"
        },
        "id": "GQB6MlS64hkK",
        "outputId": "294568ec-f28b-46af-dd19-7b2d30d800d4"
      },
      "outputs": [
        {
          "name": "stdout",
          "output_type": "stream",
          "text": [
            "Epoch 1/100\n",
            "4/4 [==============================] - 1s 49ms/step - loss: 1.2769 - accuracy: 0.3548 - val_loss: 1.1475 - val_accuracy: 0.3519\n",
            "Epoch 2/100\n",
            "4/4 [==============================] - 0s 27ms/step - loss: 1.2262 - accuracy: 0.3468 - val_loss: 1.1010 - val_accuracy: 0.3519\n",
            "Epoch 3/100\n",
            "4/4 [==============================] - 0s 29ms/step - loss: 1.1758 - accuracy: 0.3548 - val_loss: 1.0559 - val_accuracy: 0.4074\n",
            "Epoch 4/100\n",
            "4/4 [==============================] - 0s 23ms/step - loss: 1.1275 - accuracy: 0.3548 - val_loss: 1.0127 - val_accuracy: 0.4259\n",
            "Epoch 5/100\n",
            "4/4 [==============================] - 0s 19ms/step - loss: 1.0830 - accuracy: 0.3629 - val_loss: 0.9710 - val_accuracy: 0.4444\n",
            "Epoch 6/100\n",
            "4/4 [==============================] - 0s 20ms/step - loss: 1.0390 - accuracy: 0.3790 - val_loss: 0.9310 - val_accuracy: 0.4444\n",
            "Epoch 7/100\n",
            "4/4 [==============================] - 0s 21ms/step - loss: 0.9986 - accuracy: 0.4194 - val_loss: 0.8931 - val_accuracy: 0.4815\n",
            "Epoch 8/100\n",
            "4/4 [==============================] - 0s 16ms/step - loss: 0.9590 - accuracy: 0.4435 - val_loss: 0.8568 - val_accuracy: 0.5185\n",
            "Epoch 9/100\n",
            "4/4 [==============================] - 0s 20ms/step - loss: 0.9217 - accuracy: 0.4758 - val_loss: 0.8219 - val_accuracy: 0.5741\n",
            "Epoch 10/100\n",
            "4/4 [==============================] - 0s 19ms/step - loss: 0.8849 - accuracy: 0.5000 - val_loss: 0.7892 - val_accuracy: 0.6111\n",
            "Epoch 11/100\n",
            "4/4 [==============================] - 0s 17ms/step - loss: 0.8536 - accuracy: 0.5081 - val_loss: 0.7578 - val_accuracy: 0.6481\n",
            "Epoch 12/100\n",
            "4/4 [==============================] - 0s 18ms/step - loss: 0.8196 - accuracy: 0.5726 - val_loss: 0.7290 - val_accuracy: 0.6667\n",
            "Epoch 13/100\n",
            "4/4 [==============================] - 0s 17ms/step - loss: 0.7910 - accuracy: 0.6129 - val_loss: 0.7015 - val_accuracy: 0.7037\n",
            "Epoch 14/100\n",
            "4/4 [==============================] - 0s 19ms/step - loss: 0.7622 - accuracy: 0.6210 - val_loss: 0.6754 - val_accuracy: 0.7407\n",
            "Epoch 15/100\n",
            "4/4 [==============================] - 0s 16ms/step - loss: 0.7354 - accuracy: 0.6371 - val_loss: 0.6504 - val_accuracy: 0.7593\n",
            "Epoch 16/100\n",
            "4/4 [==============================] - 0s 16ms/step - loss: 0.7093 - accuracy: 0.6694 - val_loss: 0.6266 - val_accuracy: 0.7778\n",
            "Epoch 17/100\n",
            "4/4 [==============================] - 0s 36ms/step - loss: 0.6852 - accuracy: 0.7016 - val_loss: 0.6036 - val_accuracy: 0.7963\n",
            "Epoch 18/100\n",
            "4/4 [==============================] - 0s 17ms/step - loss: 0.6623 - accuracy: 0.7177 - val_loss: 0.5817 - val_accuracy: 0.7963\n",
            "Epoch 19/100\n",
            "4/4 [==============================] - 0s 19ms/step - loss: 0.6395 - accuracy: 0.7419 - val_loss: 0.5608 - val_accuracy: 0.8519\n",
            "Epoch 20/100\n",
            "4/4 [==============================] - 0s 23ms/step - loss: 0.6177 - accuracy: 0.7661 - val_loss: 0.5407 - val_accuracy: 0.8519\n",
            "Epoch 21/100\n",
            "4/4 [==============================] - 0s 19ms/step - loss: 0.5972 - accuracy: 0.7903 - val_loss: 0.5218 - val_accuracy: 0.8704\n",
            "Epoch 22/100\n",
            "4/4 [==============================] - 0s 17ms/step - loss: 0.5769 - accuracy: 0.7984 - val_loss: 0.5037 - val_accuracy: 0.9074\n",
            "Epoch 23/100\n",
            "4/4 [==============================] - 0s 16ms/step - loss: 0.5585 - accuracy: 0.8065 - val_loss: 0.4865 - val_accuracy: 0.9074\n",
            "Epoch 24/100\n",
            "4/4 [==============================] - 0s 16ms/step - loss: 0.5406 - accuracy: 0.7984 - val_loss: 0.4700 - val_accuracy: 0.9074\n",
            "Epoch 25/100\n",
            "4/4 [==============================] - 0s 15ms/step - loss: 0.5233 - accuracy: 0.8145 - val_loss: 0.4545 - val_accuracy: 0.9444\n",
            "Epoch 26/100\n",
            "4/4 [==============================] - 0s 16ms/step - loss: 0.5068 - accuracy: 0.8145 - val_loss: 0.4399 - val_accuracy: 0.9444\n",
            "Epoch 27/100\n",
            "4/4 [==============================] - 0s 16ms/step - loss: 0.4915 - accuracy: 0.8226 - val_loss: 0.4256 - val_accuracy: 0.9444\n",
            "Epoch 28/100\n",
            "4/4 [==============================] - 0s 16ms/step - loss: 0.4766 - accuracy: 0.8387 - val_loss: 0.4123 - val_accuracy: 0.9630\n",
            "Epoch 29/100\n",
            "4/4 [==============================] - 0s 13ms/step - loss: 0.4625 - accuracy: 0.8387 - val_loss: 0.3997 - val_accuracy: 0.9630\n",
            "Epoch 30/100\n",
            "4/4 [==============================] - 0s 14ms/step - loss: 0.4488 - accuracy: 0.8387 - val_loss: 0.3878 - val_accuracy: 0.9630\n",
            "Epoch 31/100\n",
            "4/4 [==============================] - 0s 16ms/step - loss: 0.4356 - accuracy: 0.8629 - val_loss: 0.3765 - val_accuracy: 0.9630\n",
            "Epoch 32/100\n",
            "4/4 [==============================] - 0s 16ms/step - loss: 0.4238 - accuracy: 0.8629 - val_loss: 0.3656 - val_accuracy: 0.9630\n",
            "Epoch 33/100\n",
            "4/4 [==============================] - 0s 16ms/step - loss: 0.4119 - accuracy: 0.8790 - val_loss: 0.3550 - val_accuracy: 0.9630\n",
            "Epoch 34/100\n",
            "4/4 [==============================] - 0s 18ms/step - loss: 0.4001 - accuracy: 0.8871 - val_loss: 0.3450 - val_accuracy: 0.9630\n",
            "Epoch 35/100\n",
            "4/4 [==============================] - 0s 17ms/step - loss: 0.3896 - accuracy: 0.8952 - val_loss: 0.3355 - val_accuracy: 0.9815\n",
            "Epoch 36/100\n",
            "4/4 [==============================] - 0s 19ms/step - loss: 0.3790 - accuracy: 0.9194 - val_loss: 0.3265 - val_accuracy: 0.9815\n",
            "Epoch 37/100\n",
            "4/4 [==============================] - 0s 18ms/step - loss: 0.3689 - accuracy: 0.9355 - val_loss: 0.3178 - val_accuracy: 0.9815\n",
            "Epoch 38/100\n",
            "4/4 [==============================] - 0s 20ms/step - loss: 0.3593 - accuracy: 0.9355 - val_loss: 0.3095 - val_accuracy: 0.9815\n",
            "Epoch 39/100\n",
            "4/4 [==============================] - 0s 26ms/step - loss: 0.3501 - accuracy: 0.9435 - val_loss: 0.3014 - val_accuracy: 0.9815\n",
            "Epoch 40/100\n",
            "4/4 [==============================] - 0s 22ms/step - loss: 0.3414 - accuracy: 0.9435 - val_loss: 0.2937 - val_accuracy: 0.9815\n",
            "Epoch 41/100\n",
            "4/4 [==============================] - 0s 18ms/step - loss: 0.3328 - accuracy: 0.9435 - val_loss: 0.2864 - val_accuracy: 0.9815\n",
            "Epoch 42/100\n",
            "4/4 [==============================] - 0s 19ms/step - loss: 0.3246 - accuracy: 0.9435 - val_loss: 0.2793 - val_accuracy: 0.9815\n",
            "Epoch 43/100\n",
            "4/4 [==============================] - 0s 27ms/step - loss: 0.3171 - accuracy: 0.9435 - val_loss: 0.2725 - val_accuracy: 0.9815\n",
            "Epoch 44/100\n",
            "4/4 [==============================] - 0s 14ms/step - loss: 0.3092 - accuracy: 0.9516 - val_loss: 0.2659 - val_accuracy: 0.9815\n",
            "Epoch 45/100\n",
            "4/4 [==============================] - 0s 18ms/step - loss: 0.3019 - accuracy: 0.9516 - val_loss: 0.2596 - val_accuracy: 0.9815\n",
            "Epoch 46/100\n",
            "4/4 [==============================] - 0s 25ms/step - loss: 0.2946 - accuracy: 0.9516 - val_loss: 0.2536 - val_accuracy: 0.9815\n",
            "Epoch 47/100\n",
            "4/4 [==============================] - 0s 18ms/step - loss: 0.2881 - accuracy: 0.9516 - val_loss: 0.2479 - val_accuracy: 0.9815\n",
            "Epoch 48/100\n",
            "4/4 [==============================] - 0s 17ms/step - loss: 0.2813 - accuracy: 0.9516 - val_loss: 0.2424 - val_accuracy: 0.9815\n",
            "Epoch 49/100\n",
            "4/4 [==============================] - 0s 19ms/step - loss: 0.2749 - accuracy: 0.9516 - val_loss: 0.2371 - val_accuracy: 0.9815\n",
            "Epoch 50/100\n",
            "4/4 [==============================] - 0s 18ms/step - loss: 0.2689 - accuracy: 0.9516 - val_loss: 0.2319 - val_accuracy: 0.9815\n",
            "Epoch 51/100\n",
            "4/4 [==============================] - 0s 18ms/step - loss: 0.2627 - accuracy: 0.9516 - val_loss: 0.2270 - val_accuracy: 0.9815\n",
            "Epoch 52/100\n",
            "4/4 [==============================] - 0s 16ms/step - loss: 0.2570 - accuracy: 0.9516 - val_loss: 0.2223 - val_accuracy: 0.9815\n",
            "Epoch 53/100\n",
            "4/4 [==============================] - 0s 19ms/step - loss: 0.2515 - accuracy: 0.9516 - val_loss: 0.2178 - val_accuracy: 0.9815\n",
            "Epoch 54/100\n",
            "4/4 [==============================] - 0s 21ms/step - loss: 0.2461 - accuracy: 0.9516 - val_loss: 0.2134 - val_accuracy: 0.9815\n",
            "Epoch 55/100\n",
            "4/4 [==============================] - 0s 18ms/step - loss: 0.2409 - accuracy: 0.9516 - val_loss: 0.2092 - val_accuracy: 0.9815\n",
            "Epoch 56/100\n",
            "4/4 [==============================] - 0s 19ms/step - loss: 0.2357 - accuracy: 0.9516 - val_loss: 0.2052 - val_accuracy: 0.9815\n",
            "Epoch 57/100\n",
            "4/4 [==============================] - 0s 24ms/step - loss: 0.2308 - accuracy: 0.9516 - val_loss: 0.2013 - val_accuracy: 0.9815\n",
            "Epoch 58/100\n",
            "4/4 [==============================] - 0s 19ms/step - loss: 0.2260 - accuracy: 0.9516 - val_loss: 0.1976 - val_accuracy: 0.9815\n",
            "Epoch 59/100\n",
            "4/4 [==============================] - 0s 20ms/step - loss: 0.2214 - accuracy: 0.9516 - val_loss: 0.1939 - val_accuracy: 0.9815\n",
            "Epoch 60/100\n",
            "4/4 [==============================] - 0s 16ms/step - loss: 0.2169 - accuracy: 0.9597 - val_loss: 0.1904 - val_accuracy: 0.9815\n",
            "Epoch 61/100\n",
            "4/4 [==============================] - 0s 15ms/step - loss: 0.2124 - accuracy: 0.9677 - val_loss: 0.1871 - val_accuracy: 0.9815\n",
            "Epoch 62/100\n",
            "4/4 [==============================] - 0s 20ms/step - loss: 0.2081 - accuracy: 0.9677 - val_loss: 0.1837 - val_accuracy: 0.9815\n",
            "Epoch 63/100\n",
            "4/4 [==============================] - 0s 19ms/step - loss: 0.2040 - accuracy: 0.9677 - val_loss: 0.1808 - val_accuracy: 0.9815\n",
            "Epoch 64/100\n",
            "4/4 [==============================] - 0s 18ms/step - loss: 0.1997 - accuracy: 0.9677 - val_loss: 0.1778 - val_accuracy: 0.9815\n",
            "Epoch 65/100\n",
            "4/4 [==============================] - 0s 20ms/step - loss: 0.1958 - accuracy: 0.9677 - val_loss: 0.1748 - val_accuracy: 0.9815\n",
            "Epoch 66/100\n",
            "4/4 [==============================] - 0s 19ms/step - loss: 0.1918 - accuracy: 0.9677 - val_loss: 0.1719 - val_accuracy: 0.9815\n",
            "Epoch 67/100\n",
            "4/4 [==============================] - 0s 27ms/step - loss: 0.1881 - accuracy: 0.9677 - val_loss: 0.1691 - val_accuracy: 0.9815\n",
            "Epoch 68/100\n",
            "4/4 [==============================] - 0s 17ms/step - loss: 0.1844 - accuracy: 0.9677 - val_loss: 0.1665 - val_accuracy: 0.9815\n",
            "Epoch 69/100\n",
            "4/4 [==============================] - 0s 17ms/step - loss: 0.1810 - accuracy: 0.9677 - val_loss: 0.1638 - val_accuracy: 0.9815\n",
            "Epoch 70/100\n",
            "4/4 [==============================] - 0s 18ms/step - loss: 0.1774 - accuracy: 0.9677 - val_loss: 0.1613 - val_accuracy: 0.9815\n",
            "Epoch 71/100\n",
            "4/4 [==============================] - 0s 20ms/step - loss: 0.1739 - accuracy: 0.9677 - val_loss: 0.1589 - val_accuracy: 0.9815\n",
            "Epoch 72/100\n",
            "4/4 [==============================] - 0s 20ms/step - loss: 0.1708 - accuracy: 0.9677 - val_loss: 0.1565 - val_accuracy: 0.9815\n",
            "Epoch 73/100\n",
            "4/4 [==============================] - 0s 18ms/step - loss: 0.1674 - accuracy: 0.9677 - val_loss: 0.1542 - val_accuracy: 0.9815\n",
            "Epoch 74/100\n",
            "4/4 [==============================] - 0s 18ms/step - loss: 0.1642 - accuracy: 0.9677 - val_loss: 0.1520 - val_accuracy: 0.9815\n",
            "Epoch 75/100\n",
            "4/4 [==============================] - 0s 22ms/step - loss: 0.1613 - accuracy: 0.9677 - val_loss: 0.1499 - val_accuracy: 0.9815\n",
            "Epoch 76/100\n",
            "4/4 [==============================] - 0s 22ms/step - loss: 0.1582 - accuracy: 0.9677 - val_loss: 0.1478 - val_accuracy: 0.9815\n",
            "Epoch 77/100\n",
            "4/4 [==============================] - 0s 20ms/step - loss: 0.1554 - accuracy: 0.9677 - val_loss: 0.1458 - val_accuracy: 0.9815\n",
            "Epoch 78/100\n",
            "4/4 [==============================] - 0s 18ms/step - loss: 0.1526 - accuracy: 0.9677 - val_loss: 0.1437 - val_accuracy: 0.9815\n",
            "Epoch 79/100\n",
            "4/4 [==============================] - 0s 15ms/step - loss: 0.1498 - accuracy: 0.9677 - val_loss: 0.1418 - val_accuracy: 0.9815\n",
            "Epoch 80/100\n",
            "4/4 [==============================] - 0s 22ms/step - loss: 0.1472 - accuracy: 0.9677 - val_loss: 0.1400 - val_accuracy: 0.9815\n",
            "Epoch 81/100\n",
            "4/4 [==============================] - 0s 19ms/step - loss: 0.1445 - accuracy: 0.9677 - val_loss: 0.1381 - val_accuracy: 0.9815\n",
            "Epoch 82/100\n",
            "4/4 [==============================] - 0s 18ms/step - loss: 0.1420 - accuracy: 0.9677 - val_loss: 0.1364 - val_accuracy: 0.9815\n",
            "Epoch 83/100\n",
            "4/4 [==============================] - 0s 18ms/step - loss: 0.1396 - accuracy: 0.9677 - val_loss: 0.1346 - val_accuracy: 0.9815\n",
            "Epoch 84/100\n",
            "4/4 [==============================] - 0s 26ms/step - loss: 0.1370 - accuracy: 0.9677 - val_loss: 0.1331 - val_accuracy: 0.9815\n",
            "Epoch 85/100\n",
            "4/4 [==============================] - 0s 21ms/step - loss: 0.1349 - accuracy: 0.9677 - val_loss: 0.1316 - val_accuracy: 0.9815\n",
            "Epoch 86/100\n",
            "4/4 [==============================] - 0s 35ms/step - loss: 0.1326 - accuracy: 0.9677 - val_loss: 0.1302 - val_accuracy: 0.9815\n",
            "Epoch 87/100\n",
            "4/4 [==============================] - 0s 18ms/step - loss: 0.1303 - accuracy: 0.9758 - val_loss: 0.1288 - val_accuracy: 0.9815\n",
            "Epoch 88/100\n",
            "4/4 [==============================] - 0s 19ms/step - loss: 0.1282 - accuracy: 0.9758 - val_loss: 0.1273 - val_accuracy: 0.9815\n",
            "Epoch 89/100\n",
            "4/4 [==============================] - 0s 17ms/step - loss: 0.1260 - accuracy: 0.9758 - val_loss: 0.1259 - val_accuracy: 0.9815\n",
            "Epoch 90/100\n",
            "4/4 [==============================] - 0s 19ms/step - loss: 0.1240 - accuracy: 0.9758 - val_loss: 0.1246 - val_accuracy: 0.9815\n",
            "Epoch 91/100\n",
            "4/4 [==============================] - 0s 17ms/step - loss: 0.1221 - accuracy: 0.9758 - val_loss: 0.1230 - val_accuracy: 0.9815\n",
            "Epoch 92/100\n",
            "4/4 [==============================] - 0s 17ms/step - loss: 0.1202 - accuracy: 0.9839 - val_loss: 0.1214 - val_accuracy: 0.9815\n",
            "Epoch 93/100\n",
            "4/4 [==============================] - 0s 19ms/step - loss: 0.1182 - accuracy: 0.9839 - val_loss: 0.1199 - val_accuracy: 0.9815\n",
            "Epoch 94/100\n",
            "4/4 [==============================] - 0s 20ms/step - loss: 0.1163 - accuracy: 0.9839 - val_loss: 0.1185 - val_accuracy: 0.9815\n",
            "Epoch 95/100\n",
            "4/4 [==============================] - 0s 19ms/step - loss: 0.1146 - accuracy: 0.9839 - val_loss: 0.1171 - val_accuracy: 0.9815\n",
            "Epoch 96/100\n",
            "4/4 [==============================] - 0s 16ms/step - loss: 0.1128 - accuracy: 0.9839 - val_loss: 0.1157 - val_accuracy: 0.9815\n",
            "Epoch 97/100\n",
            "4/4 [==============================] - 0s 15ms/step - loss: 0.1111 - accuracy: 0.9839 - val_loss: 0.1144 - val_accuracy: 0.9815\n",
            "Epoch 98/100\n",
            "4/4 [==============================] - 0s 15ms/step - loss: 0.1095 - accuracy: 0.9839 - val_loss: 0.1130 - val_accuracy: 0.9815\n",
            "Epoch 99/100\n",
            "4/4 [==============================] - 0s 21ms/step - loss: 0.1078 - accuracy: 0.9839 - val_loss: 0.1119 - val_accuracy: 0.9815\n",
            "Epoch 100/100\n",
            "4/4 [==============================] - 0s 24ms/step - loss: 0.1062 - accuracy: 0.9839 - val_loss: 0.1106 - val_accuracy: 0.9815\n"
          ]
        }
      ],
      "source": [
        "r=model.fit(x_train, y_train, validation_data=(x_test,y_test),epochs=100)"
      ]
    },
    {
      "cell_type": "markdown",
      "metadata": {},
      "source": [
        "### evaluate the model, returns loss and accuracy"
      ]
    },
    {
      "cell_type": "code",
      "execution_count": 21,
      "metadata": {
        "colab": {
          "base_uri": "https://localhost:8080/"
        },
        "id": "1EWiLHY840ei",
        "outputId": "67aa63ca-114a-4843-baed-aeee90cfe96a"
      },
      "outputs": [
        {
          "name": "stdout",
          "output_type": "stream",
          "text": [
            "4/4 [==============================] - 0s 3ms/step - loss: 0.1052 - accuracy: 0.9839\n",
            "Train score:  [0.10520553588867188, 0.9838709831237793]\n",
            "2/2 [==============================] - 0s 7ms/step - loss: 0.1106 - accuracy: 0.9815\n",
            "Test score:  [0.110613152384758, 0.9814814925193787]\n"
          ]
        }
      ],
      "source": [
        "print(\"Train score: \",model.evaluate(x_train,y_train))\n",
        "print(\"Test score: \",model.evaluate(x_test,y_test))\n"
      ]
    },
    {
      "cell_type": "markdown",
      "metadata": {},
      "source": [
        "### Plot the training phase"
      ]
    },
    {
      "cell_type": "code",
      "execution_count": 22,
      "metadata": {
        "colab": {
          "base_uri": "https://localhost:8080/",
          "height": 449
        },
        "id": "2OmXbzHZANu_",
        "outputId": "89fe00a3-4fa2-4cce-d814-13b17adb41d3"
      },
      "outputs": [
        {
          "data": {
            "text/plain": [
              "<matplotlib.legend.Legend at 0x2028d6be020>"
            ]
          },
          "execution_count": 22,
          "metadata": {},
          "output_type": "execute_result"
        },
        {
          "data": {
            "image/png": "[encoded data removed]",
            "text/plain": [
              "<Figure size 640x480 with 1 Axes>"
            ]
          },
          "metadata": {},
          "output_type": "display_data"
        }
      ],
      "source": [
        "plt.plot(r.history['loss'],label=\"loss\")\n",
        "plt.plot(r.history['val_loss'],label=\"val_loss\")\n",
        "plt.legend()"
      ]
    },
    {
      "cell_type": "markdown",
      "metadata": {},
      "source": [
        "### Plot accuracy"
      ]
    },
    {
      "cell_type": "code",
      "execution_count": 23,
      "metadata": {
        "colab": {
          "base_uri": "https://localhost:8080/",
          "height": 447
        },
        "id": "JFqMPBJ6CR3V",
        "outputId": "4fffc71e-931d-4d03-9556-a0d5bb46c4a8"
      },
      "outputs": [
        {
          "data": {
            "text/plain": [
              "<matplotlib.legend.Legend at 0x20290787760>"
            ]
          },
          "execution_count": 23,
          "metadata": {},
          "output_type": "execute_result"
        },
        {
          "data": {
            "image/png": "[encoded data removed]",
            "text/plain": [
              "<Figure size 640x480 with 1 Axes>"
            ]
          },
          "metadata": {},
          "output_type": "display_data"
        }
      ],
      "source": [
        "plt.plot(r.history['accuracy'],label='accuracy')\n",
        "plt.plot(r.history['val_accuracy'],label='val_accuracy')\n",
        "plt.legend()\n"
      ]
    },
    {
      "cell_type": "markdown",
      "metadata": {},
      "source": [
        "## Make predictions\n"
      ]
    },
    {
      "cell_type": "code",
      "execution_count": 24,
      "metadata": {
        "colab": {
          "base_uri": "https://localhost:8080/"
        },
        "id": "N2N_BfiGDMKl",
        "outputId": "3240d6f3-0ee2-429d-83eb-55bec8de521b"
      },
      "outputs": [
        {
          "name": "stdout",
          "output_type": "stream",
          "text": [
            "2/2 [==============================] - 0s 5ms/step\n"
          ]
        }
      ],
      "source": [
        "P=model.predict(x_test)"
      ]
    },
    {
      "cell_type": "code",
      "execution_count": 25,
      "metadata": {
        "colab": {
          "base_uri": "https://localhost:8080/"
        },
        "id": "eL2JSh9AHFbT",
        "outputId": "a7d8ca0d-a2de-4079-96af-ed94fcce2ba5"
      },
      "outputs": [
        {
          "name": "stdout",
          "output_type": "stream",
          "text": [
            "[[9.4136798e-01 4.8096180e-02 1.0535865e-02]\n",
            " [8.9223635e-01 1.0424130e-01 3.5224459e-03]\n",
            " [9.7910988e-01 2.0341497e-02 5.4855156e-04]\n",
            " [9.8967195e-01 1.0301404e-02 2.6651951e-05]\n",
            " [6.4479103e-03 9.8576152e-01 7.7904854e-03]\n",
            " [8.1881136e-01 1.6894145e-01 1.2247150e-02]\n",
            " [5.6503541e-03 9.9157435e-01 2.7753313e-03]\n",
            " [9.2356020e-01 7.6134488e-02 3.0534962e-04]\n",
            " [6.1552119e-02 7.5664794e-01 1.8179989e-01]\n",
            " [7.9265349e-03 2.7493413e-03 9.8932415e-01]\n",
            " [2.9522000e-02 2.7329503e-02 9.4314849e-01]\n",
            " [9.9561465e-01 4.2750281e-03 1.1034225e-04]\n",
            " [8.6701335e-03 4.3047736e-03 9.8702514e-01]\n",
            " [5.0040882e-02 9.1233754e-01 3.7621584e-02]\n",
            " [7.9454571e-01 1.7718108e-01 2.8273202e-02]\n",
            " [9.7119540e-01 2.8373664e-02 4.3087796e-04]\n",
            " [5.0251451e-03 6.2598484e-03 9.8871499e-01]\n",
            " [3.0747004e-02 9.5517701e-01 1.4075968e-02]\n",
            " [7.8960536e-03 9.8948634e-01 2.6176232e-03]\n",
            " [8.3442880e-03 8.8420697e-03 9.8281360e-01]\n",
            " [9.7772741e-01 2.0184543e-02 2.0880979e-03]\n",
            " [5.9275769e-02 9.3957382e-01 1.1504266e-03]\n",
            " [9.6924770e-01 2.9586669e-02 1.1656227e-03]\n",
            " [5.8842571e-03 1.7282333e-02 9.7683346e-01]\n",
            " [3.4781282e-03 8.2498267e-03 9.8827201e-01]\n",
            " [8.0100307e-03 9.8443639e-01 7.5535378e-03]\n",
            " [3.0831484e-02 8.9458215e-01 7.4586332e-02]\n",
            " [2.9123178e-02 1.1384566e-01 8.5703117e-01]\n",
            " [1.0768668e-01 8.5400772e-01 3.8305584e-02]\n",
            " [9.6890619e-03 9.8472011e-01 5.5908747e-03]\n",
            " [1.4967246e-03 9.9528027e-01 3.2230150e-03]\n",
            " [7.5463790e-01 2.0156851e-01 4.3793552e-02]\n",
            " [3.8124807e-02 3.0763863e-02 9.3111128e-01]\n",
            " [1.5799046e-03 9.9526441e-01 3.1556503e-03]\n",
            " [1.4025948e-03 9.9540234e-01 3.1950118e-03]\n",
            " [9.2884046e-01 6.7375831e-02 3.7836954e-03]\n",
            " [1.2809114e-02 9.8086870e-01 6.3222190e-03]\n",
            " [9.9894649e-01 1.0442728e-03 9.2508526e-06]\n",
            " [6.2061315e-03 3.1621326e-02 9.6217245e-01]\n",
            " [3.7653122e-02 9.2503077e-01 3.7316177e-02]\n",
            " [4.6498176e-02 1.8315467e-01 7.7034712e-01]\n",
            " [3.7348505e-02 9.6737422e-02 8.6591411e-01]\n",
            " [9.8656011e-01 1.2369922e-02 1.0699972e-03]\n",
            " [3.3099011e-02 9.6664274e-01 2.5823613e-04]\n",
            " [2.3640702e-04 9.9967003e-01 9.3544892e-05]\n",
            " [1.1402708e-03 9.9705684e-01 1.8028428e-03]\n",
            " [2.2986609e-02 8.1548685e-01 1.6152652e-01]\n",
            " [2.0770975e-03 1.4359438e-02 9.8356342e-01]\n",
            " [9.5390999e-01 4.3362193e-02 2.7277407e-03]\n",
            " [2.2863807e-02 5.5641294e-02 9.2149496e-01]\n",
            " [3.7272021e-03 4.3615773e-03 9.9191123e-01]\n",
            " [3.2977410e-02 3.1810313e-02 9.3521225e-01]\n",
            " [7.1917586e-02 9.1402572e-01 1.4056737e-02]\n",
            " [1.1020622e-02 9.8619682e-01 2.7825716e-03]]\n"
          ]
        }
      ],
      "source": [
        "print(P)"
      ]
    },
    {
      "cell_type": "code",
      "execution_count": 26,
      "metadata": {
        "colab": {
          "base_uri": "https://localhost:8080/"
        },
        "id": "IW8VKb5aHLK1",
        "outputId": "481fb60c-6717-4439-e3fe-195b0d34dad0"
      },
      "outputs": [
        {
          "data": {
            "text/plain": [
              "(54, 3)"
            ]
          },
          "execution_count": 26,
          "metadata": {},
          "output_type": "execute_result"
        }
      ],
      "source": [
        "P.shape"
      ]
    },
    {
      "cell_type": "markdown",
      "metadata": {},
      "source": [
        "### Calculate the predicted class indices for each example using argmax"
      ]
    },
    {
      "cell_type": "code",
      "execution_count": 27,
      "metadata": {
        "colab": {
          "base_uri": "https://localhost:8080/"
        },
        "id": "sk2w7i-ZH6E1",
        "outputId": "fe457be5-47e3-4434-94ad-8c23f1b1bd32"
      },
      "outputs": [
        {
          "name": "stdout",
          "output_type": "stream",
          "text": [
            "[0 0 0 0 1 0 1 0 1 2 2 0 2 1 0 0 2 1 1 2 0 1 0 2 2 1 1 2 1 1 1 0 2 1 1 0 1\n",
            " 0 2 1 2 2 0 1 1 1 1 2 0 2 2 2 1 1]\n"
          ]
        },
        {
          "data": {
            "text/plain": [
              "(54,)"
            ]
          },
          "execution_count": 27,
          "metadata": {},
          "output_type": "execute_result"
        }
      ],
      "source": [
        "Predictions=np.argmax(P,axis=1)\n",
        "print(Predictions)\n",
        "Predictions.shape\n"
      ]
    },
    {
      "cell_type": "code",
      "execution_count": 28,
      "metadata": {
        "colab": {
          "base_uri": "https://localhost:8080/"
        },
        "id": "IZtJV4hXJEsM",
        "outputId": "a4d72d38-2167-4383-d2b0-1cf8561bef2e"
      },
      "outputs": [
        {
          "data": {
            "text/plain": [
              "array([0, 0, 0, 0, 1, 0, 1, 1, 1, 2, 2, 0, 2, 1, 0, 0, 2, 1, 1, 2, 0, 1,\n",
              "       0, 2, 2, 1, 1, 2, 1, 1, 1, 0, 2, 1, 1, 0, 1, 0, 2, 1, 2, 2, 0, 1,\n",
              "       1, 1, 1, 2, 0, 2, 2, 2, 1, 1])"
            ]
          },
          "execution_count": 28,
          "metadata": {},
          "output_type": "execute_result"
        }
      ],
      "source": [
        "y_test"
      ]
    },
    {
      "cell_type": "code",
      "execution_count": 29,
      "metadata": {
        "colab": {
          "base_uri": "https://localhost:8080/"
        },
        "id": "l9ZiPtnHJXXq",
        "outputId": "4c106bd8-7013-4c2e-9687-960960ea1be6"
      },
      "outputs": [
        {
          "name": "stdout",
          "output_type": "stream",
          "text": [
            "manual calculation of accuracy: 0.9814814814814815\n",
            "2/2 [==============================] - 0s 5ms/step - loss: 0.1106 - accuracy: 0.9815\n",
            "evaluation of output: [0.110613152384758, 0.9814814925193787]\n"
          ]
        }
      ],
      "source": [
        "#crosscheckaccuracy\n",
        "print(\"manual calculation of accuracy:\", np.mean(Predictions == y_test))\n",
        "print(\"evaluation of output:\", model.evaluate(x_test, y_test ))"
      ]
    },
    {
      "cell_type": "markdown",
      "metadata": {},
      "source": [
        "### Missclassified examples"
      ]
    },
    {
      "cell_type": "code",
      "execution_count": 30,
      "metadata": {
        "colab": {
          "base_uri": "https://localhost:8080/"
        },
        "id": "cKpJe2xfJknj",
        "outputId": "c5b38505-574b-4a2e-ad9e-354e9febe5b7"
      },
      "outputs": [
        {
          "name": "stdout",
          "output_type": "stream",
          "text": [
            "[[-0.04319076 -0.56928424  0.76734406  3.13388653  2.86559396  1.56995268\n",
            "   0.83634896 -1.19199844  0.59440165 -0.73772917  1.6069733   1.19942205\n",
            "   0.73904897]]\n"
          ]
        }
      ],
      "source": [
        "misclassified_indices = np.where(Predictions != y_test)[0]\n",
        "misclassified_examples = x_test[misclassified_indices]\n",
        "print(misclassified_examples)\n",
        "\n"
      ]
    },
    {
      "cell_type": "markdown",
      "metadata": {},
      "source": [
        "## Plot confusion matrix"
      ]
    },
    {
      "cell_type": "code",
      "execution_count": 32,
      "metadata": {
        "colab": {
          "base_uri": "https://localhost:8080/",
          "height": 593
        },
        "id": "-dilJVkVLL2y",
        "outputId": "d4f5bc94-e734-4b9b-e0e4-32b4606e6644"
      },
      "outputs": [
        {
          "name": "stdout",
          "output_type": "stream",
          "text": [
            "1/2 [==============>...............] - ETA: 0s"
          ]
        },
        {
          "name": "stdout",
          "output_type": "stream",
          "text": [
            "2/2 [==============================] - 0s 4ms/step\n",
            "Confusion matrix, without normalisation\n",
            "[[15  0  0]\n",
            " [ 1 22  0]\n",
            " [ 0  0 16]]\n"
          ]
        },
        {
          "data": {
            "image/png": "[encoded data removed]",
            "text/plain": [
              "<Figure size 640x480 with 2 Axes>"
            ]
          },
          "metadata": {},
          "output_type": "display_data"
        }
      ],
      "source": [
        "from sklearn.metrics import confusion_matrix\n",
        "import itertools\n",
        "\n",
        "def plot_confusion_matrix(cm, classes, normalize=False,\n",
        "                          title='Confusion matrix',\n",
        "                          cmap=plt.cm.RdPu):\n",
        "  if normalize:\n",
        "    cm = cm.astype('float') / cm.sum(axis=1)[:, np.newaxis]\n",
        "    print(\"Normalised confusion matrix\")\n",
        "  else:\n",
        "    print(\"Confusion matrix, without normalisation\")\n",
        "\n",
        "  print(cm)\n",
        "\n",
        "  plt.imshow(cm, interpolation='nearest', cmap=cmap)\n",
        "  plt.title(title)\n",
        "  plt.colorbar()\n",
        "  tick_marks = np.arange(len(classes))\n",
        "  plt.xticks(tick_marks, classes, rotation=45)\n",
        "  plt.yticks(tick_marks, classes)\n",
        "\n",
        "  fmt = '.2f' if normalize else 'd'\n",
        "  thresh = cm.max()/2.\n",
        "  for i,j in itertools.product(range(cm.shape[0]), range(cm.shape[1])):\n",
        "    plt.text(j,i, format(cm[i,j], fmt),\n",
        "        horizontalalignment='center',\n",
        "        color=\"white\" if cm[i, j] > thresh else \"black\")\n",
        "\n",
        "\n",
        "\n",
        "\n",
        "p_test = model.predict(x_test).argmax(axis=1)\n",
        "cm = confusion_matrix(y_test, p_test)\n",
        "plot_confusion_matrix(cm, list(range(3)))\n",
        "\n",
        "plt.tight_layout()\n",
        "plt.ylabel('True label')\n",
        "plt.xlabel('Predicted label')\n",
        "plt.show()"
      ]
    },
    {
      "cell_type": "code",
      "execution_count": 177,
      "metadata": {
        "id": "krIV4tRtMNRz"
      },
      "outputs": [],
      "source": []
    },
    {
      "cell_type": "code",
      "execution_count": null,
      "metadata": {
        "id": "U7QFd7AuMP14"
      },
      "outputs": [],
      "source": []
    }
  ],
  "metadata": {
    "colab": {
      "provenance": []
    },
    "kernelspec": {
      "display_name": "Python 3",
      "name": "python3"
    },
    "language_info": {
      "codemirror_mode": {
        "name": "ipython",
        "version": 3
      },
      "file_extension": ".py",
      "mimetype": "text/x-python",
      "name": "python",
      "nbconvert_exporter": "python",
      "pygments_lexer": "ipython3",
      "version": "3.10.9"
    }
  },
  "nbformat": 4,
  "nbformat_minor": 0
}
